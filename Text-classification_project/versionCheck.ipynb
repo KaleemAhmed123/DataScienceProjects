{
 "cells": [
  {
   "cell_type": "markdown",
   "id": "f80e6e43",
   "metadata": {},
   "source": [
    "### Checking python version ---"
   ]
  },
  {
   "cell_type": "code",
   "execution_count": 27,
   "id": "f47d3209",
   "metadata": {},
   "outputs": [
    {
     "name": "stdout",
     "output_type": "stream",
     "text": [
      "Python :  3.8.6rc1 (tags/v3.8.6rc1:08bd63d, Sep  7 2020, 23:10:23) [MSC v.1927 64 bit (AMD64)]\n",
      "numpy :  1.21.2\n",
      "Pandas :  1.3.2\n",
      "matplotlib :  3.4.3\n",
      "seaborn :  0.11.2\n",
      "scipy :  1.7.1\n",
      "sklearn :  0.24.2\n"
     ]
    }
   ],
   "source": [
    "import sys \n",
    "print(\"Python : \",(sys.version))\n",
    "\n",
    "import numpy\n",
    "print(\"numpy : \",(numpy.__version__))\n",
    "\n",
    "import pandas\n",
    "print(\"Pandas : \",(pandas.__version__))\n",
    "\n",
    "import matplotlib\n",
    "print(\"matplotlib : \",(matplotlib.__version__))\n",
    "\n",
    "import seaborn\n",
    "print(\"seaborn : \",(seaborn.__version__))\n",
    "\n",
    "import scipy\n",
    "print(\"scipy : \",(scipy.__version__))\n",
    "\n",
    "import sklearn\n",
    "print(\"sklearn : \",(sklearn.__version__))\n",
    "\n"
   ]
  },
  {
   "cell_type": "code",
   "execution_count": null,
   "id": "848b9fa3",
   "metadata": {},
   "outputs": [],
   "source": []
  },
  {
   "cell_type": "code",
   "execution_count": null,
   "id": "8e9e3699",
   "metadata": {},
   "outputs": [],
   "source": []
  },
  {
   "cell_type": "code",
   "execution_count": null,
   "id": "61e637b3",
   "metadata": {},
   "outputs": [],
   "source": []
  }
 ],
 "metadata": {
  "kernelspec": {
   "display_name": "Python 3 (ipykernel)",
   "language": "python",
   "name": "python3"
  },
  "language_info": {
   "codemirror_mode": {
    "name": "ipython",
    "version": 3
   },
   "file_extension": ".py",
   "mimetype": "text/x-python",
   "name": "python",
   "nbconvert_exporter": "python",
   "pygments_lexer": "ipython3",
   "version": "3.8.6rc1"
  }
 },
 "nbformat": 4,
 "nbformat_minor": 5
}
